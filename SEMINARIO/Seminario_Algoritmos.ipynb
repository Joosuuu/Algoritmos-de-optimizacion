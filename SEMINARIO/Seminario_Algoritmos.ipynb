{
  "nbformat": 4,
  "nbformat_minor": 0,
  "metadata": {
    "colab": {
      "provenance": [],
      "include_colab_link": true
    },
    "kernelspec": {
      "name": "python3",
      "display_name": "Python 3"
    }
  },
  "cells": [
    {
      "cell_type": "markdown",
      "metadata": {
        "id": "view-in-github",
        "colab_type": "text"
      },
      "source": [
        "<a href=\"https://colab.research.google.com/github/Joosuuu/Algoritmos-de-optimizacion/blob/master/SEMINARIO/Seminario_Algoritmos.ipynb\" target=\"_parent\"><img src=\"https://colab.research.google.com/assets/colab-badge.svg\" alt=\"Open In Colab\"/></a>"
      ]
    },
    {
      "cell_type": "markdown",
      "metadata": {
        "id": "hVbXYX-RfPWh"
      },
      "source": [
        "# Algoritmos de optimización - Seminario<br>\n",
        "Nombre y Apellidos: Josu Aginaga Olaizola  <br>\n",
        "Url: https://github.com/Joosuuu/Algoritmos-de-optimizacion.git<br>\n",
        "Problema:\n",
        "> 1. Sesiones de doblaje <br>\n",
        ">2. Organizar los horarios de partidos de La Liga<br>\n",
        ">3. Combinar cifras y operaciones\n",
        "\n",
        "Descripción del problema:\n",
        ">*  Disponemos de las 9 cifras del 1 al 9 (excluimos el cero) y de los 4 signos básicos de las\n",
        "operaciones fundamentales: suma, resta, multiplicación y división.\n",
        ">*Debemos combinarlos alternativamente sin repetir ninguno de ellos para obtener una cantidad dada. Un ejemplo sería para obtener el 4:\n",
        "\\begin{align}\n",
        "        4+2-\\frac{6}{3}*1 = 4\n",
        "    \\end{align}\n",
        ">* Debe analizarse el problema para encontrar todos los valores enteros posibles planteando las\n",
        "siguientes cuestiones:\n",
        ">>- ¿Qué valor máximo y mínimo se pueden obtener según las condiciones del problema?\n",
        ">>- ¿Es posible encontrar todos los valores enteros posibles entre dicho mínimo y máximo ?\n",
        "\n",
        "* Nota: Es posible usar la función de python “eval” para evaluar una expresión:\n"
      ]
    },
    {
      "cell_type": "markdown",
      "metadata": {
        "id": "3_-exlrTgLd-"
      },
      "source": [
        "(*)¿Cuantas posibilidades hay sin tener en cuenta las restricciones?<br>\n",
        "\n",
        "\n",
        "\n",
        "¿Cuantas posibilidades hay teniendo en cuenta todas las restricciones?\n",
        "\n"
      ]
    },
    {
      "cell_type": "markdown",
      "metadata": {
        "id": "WfCUqJyKhPcw"
      },
      "source": [
        "**Respuesta:**\n",
        "Si no tenemos en cuenta las restricciones podríamos pensar que podemos usar todos los números del 1 al 9 y todos los signos pudiendo repetir los signos. De esta manera para los números del 1 al 9 estaríamos hablando de una permutación sin repetición donde la formula sería la siguiente: \n",
        "\\begin{align}\n",
        "        P_n = n! = 9! = 362880\n",
        "    \\end{align}\n",
        "Pero en el caso de los signos de operaciones tendríamos 4 signos ( 4 opciones) para cada uno de los 8 espacios entre los números. Por lo tanto el número total de combinaciones de signos es:\n",
        " \\begin{align}\n",
        "        4^8 = 65.536\n",
        "    \\end{align}\n",
        "Finalmente la cantidad total sera la multiplicación de los dos numeros obtenidos.\n",
        "\\begin{align}\n",
        "        362.880 * 65.536 = 23781703680\n",
        "    \\end{align}\n",
        "En el siguiente código se muestran los resultados"
      ]
    },
    {
      "cell_type": "code",
      "source": [
        "import math\n",
        "# num_opciones es cantidad de números (1 al 9)\n",
        "# signos_opciones es cantidad de signos ( +, - , / , *)\n",
        "num_opciones = 9\n",
        "signos_opciones = 4\n",
        "\n",
        "resultado = math.factorial(num_opciones) * (signos_opciones ** (num_opciones - 1))\n",
        "\n",
        "print(f'El resultado es: {resultado}')"
      ],
      "metadata": {
        "colab": {
          "base_uri": "https://localhost:8080/"
        },
        "id": "xSsi0_PPn67F",
        "outputId": "54f7aec5-3562-42d8-eb88-bfe627140db0"
      },
      "execution_count": null,
      "outputs": [
        {
          "output_type": "stream",
          "name": "stdout",
          "text": [
            "El resultado es: 23781703680\n"
          ]
        }
      ]
    },
    {
      "cell_type": "markdown",
      "source": [
        "En el caso de tener en cuenta todas las restricciones el número de posibilidades se va a reducir. Ahora vamos a tener en cuenta que solo usamos 5 números que pueden ser del 1 al 9. De esta manera obtenemos lo siguiente utilizando la formula de combinación:\n",
        "\\begin{align}\n",
        "    C(9,5) =\\frac{9!}{5!*(9-5)!} = 126\n",
        "    \\end{align}\n",
        "En caso de los signos sería lo mismo que antes:\n",
        "\\begin{align}\n",
        "        4! = 24\n",
        "    \\end{align}\n",
        "Ahora tenemos que multiplicar los dos valores para obtener la cantidad total de combinaciones: \n",
        "\\begin{align}\n",
        "        Resultado = 126*24 = 3024\n",
        "    \\end{align}\n",
        "Podemos calcular igual que antes mediante código"
      ],
      "metadata": {
        "id": "aVuN4XEJsXfs"
      }
    },
    {
      "cell_type": "code",
      "source": [
        "import math\n",
        "# n es número de digitos ( 1 al 9)\n",
        "# k es cantidad de números \n",
        "# n_1 es cantidad de signos\n",
        "def combinaciones(n, k,n_1):\n",
        "    num_opciones = math.factorial(n) // (math.factorial(k) * math.factorial(n - k))\n",
        "    signos_opciones = math.factorial(n_1)\n",
        "    res = num_opciones * signos_opciones\n",
        "    return (f'La solucion es: {res}')\n",
        "print(combinaciones(9, 5, 4))"
      ],
      "metadata": {
        "colab": {
          "base_uri": "https://localhost:8080/"
        },
        "id": "kiW19jhjwipG",
        "outputId": "03d39471-d999-4b28-b5de-1b0c46b0eb1f"
      },
      "execution_count": null,
      "outputs": [
        {
          "output_type": "stream",
          "name": "stdout",
          "text": [
            "La solucion es: 3024\n"
          ]
        }
      ]
    },
    {
      "cell_type": "markdown",
      "metadata": {
        "id": "dzynfVJahHoY"
      },
      "source": [
        "Modelo para el espacio de soluciones<br>\n",
        "(*) ¿Cual es la estructura de datos que mejor se adapta al problema? Argumentalo.(Es posible que hayas elegido una al principio y veas la necesidad de cambiar, argumentalo)\n"
      ]
    },
    {
      "cell_type": "markdown",
      "metadata": {
        "id": "xFIJrOwKi2Ti"
      },
      "source": [
        "**Respuesta**\n",
        "\n",
        "Una forma de optimizar el algoritmo para resolver este problema podría ser utilizando un algoritmo de búsqueda heurística para limitar el espacio de búsqueda. De esta manera no haría falta generar todas las combinaciones y permutaciones de cifras y operadores. Otra forma sería utilizar algún algoritmo de optimización como algoritmos genéticos o algoritmos de enjambre de partículas. \n",
        "\n",
        "Estos dos últimos algoritmos que acabo de mencionar son algo complejos y por ello he buscado algún otro algoritmo que sea algo más sencillo de aplicar para resolver este problema. El algoritmo que he usado es búsqueda aleatoria (Monte Carlo). Con este algoritmo lo que conseguimos es reducir el tiempo para valores muy grandes ya que hacemos una búsqueda aleatoria y no una búsqueda de todas las combinaciones.\n"
      ]
    },
    {
      "cell_type": "code",
      "metadata": {
        "id": "38c-7-ejhJmA"
      },
      "source": [],
      "execution_count": null,
      "outputs": []
    },
    {
      "cell_type": "markdown",
      "metadata": {
        "id": "7Z9U2W7bi-XS"
      },
      "source": [
        "Según el modelo para el espacio de soluciones<br>\n",
        "(*)¿Cual es la función objetivo?\n",
        "\n",
        "(*)¿Es un problema de maximización o minimización?"
      ]
    },
    {
      "cell_type": "markdown",
      "metadata": {
        "id": "hBalWLM7j1_d"
      },
      "source": [
        "**Respuesta**\n",
        "\n",
        "En este caso estamos hablando de un problema de búsqueda. No es un problema de maximización ni de minimización. Lo que se quiere conseguir es hallar ecuaciones que den como resultado el número que nosotros le digamos al algoritmo. Por ejemplo si queremos obtener el número 4 como resultado nos tendría que dar la siguiente ecuación como una de las soluciones encontradas.\n",
        "\\begin{align}\n",
        "        4+2-\\frac{6}{3}*1 = 4\n",
        "    \\end{align}"
      ]
    },
    {
      "cell_type": "markdown",
      "metadata": {
        "id": "rlnTYgY1j6I2"
      },
      "source": [
        "Diseña un algoritmo para resolver el problema por fuerza bruta"
      ]
    },
    {
      "cell_type": "markdown",
      "metadata": {
        "id": "70rDgxYXkC8r"
      },
      "source": [
        "**Respuesta**"
      ]
    },
    {
      "cell_type": "code",
      "metadata": {
        "id": "CJb5sQ0qkENy"
      },
      "source": [
        "import itertools\n",
        "# Creo una funcion para buscar combinaciones\n",
        "def buscar_combinacion(num_deseado, numeros, operaciones):\n",
        "    soluciones = []\n",
        "    # Creo todas las combinaciones de números y operaciones\n",
        "    for perm in itertools.permutations(numeros, 5):\n",
        "        for comb in itertools.permutations(operaciones, 4):\n",
        "          # Creo mi ecuación\n",
        "            ecuacion = f'{perm[0]} {comb[0]} {perm[1]} {comb[1]} {perm[2]} {comb[2]} {perm[3]} {comb[3]} {perm[4]}'\n",
        "            # Miro si la ecuación creada es igual al número que quiero obtener\n",
        "            try:\n",
        "              # Si se cumple guardo la ecuación\n",
        "                if eval(ecuacion) == num_deseado:\n",
        "                    soluciones.append(ecuacion)\n",
        "              # Si no salgo a la siguiente\n",
        "            except:\n",
        "                pass\n",
        "    # Devuelvo las soluciones\n",
        "    return soluciones"
      ],
      "execution_count": null,
      "outputs": []
    },
    {
      "cell_type": "code",
      "source": [
        "numeros = [1, 2, 3, 4, 5, 6, 7, 8, 9]\n",
        "operaciones = ['+', '-', '*', '/']\n",
        "num_deseado = -69\n",
        "resultado = buscar_combinacion(num_deseado, numeros, operaciones)\n",
        "# Si he obtenido al menos una solución la muestro por pantalla\n",
        "if resultado:\n",
        "    print(f'Se encontraron {len(resultado)} soluciones:')\n",
        "    # Bucle para mostrar todos los resultados obtenidos\n",
        "    for solution in resultado:\n",
        "        print(f'{solution} = {num_deseado}')\n",
        "\n",
        "# En caso de no haber encontrado ninguna solución\n",
        "else:\n",
        "    print(f'No se encontró una combinación que dé {num_deseado}')"
      ],
      "metadata": {
        "colab": {
          "base_uri": "https://localhost:8080/"
        },
        "id": "OFVOXgH-ZXSE",
        "outputId": "ebbe1f2a-5e07-4451-9134-ca43951e0b09"
      },
      "execution_count": null,
      "outputs": [
        {
          "output_type": "stream",
          "name": "stdout",
          "text": [
            "Se encontraron 16 soluciones:\n",
            "1 + 4 / 2 - 8 * 9 = -69\n",
            "1 + 4 / 2 - 9 * 8 = -69\n",
            "1 + 6 / 3 - 8 * 9 = -69\n",
            "1 + 6 / 3 - 9 * 8 = -69\n",
            "1 - 8 * 9 + 4 / 2 = -69\n",
            "1 - 8 * 9 + 6 / 3 = -69\n",
            "1 - 9 * 8 + 4 / 2 = -69\n",
            "1 - 9 * 8 + 6 / 3 = -69\n",
            "4 / 2 + 1 - 8 * 9 = -69\n",
            "4 / 2 + 1 - 9 * 8 = -69\n",
            "4 / 2 - 8 * 9 + 1 = -69\n",
            "4 / 2 - 9 * 8 + 1 = -69\n",
            "6 / 3 + 1 - 8 * 9 = -69\n",
            "6 / 3 + 1 - 9 * 8 = -69\n",
            "6 / 3 - 8 * 9 + 1 = -69\n",
            "6 / 3 - 9 * 8 + 1 = -69\n"
          ]
        }
      ]
    },
    {
      "cell_type": "markdown",
      "metadata": {
        "id": "tgrnsC2nkFa8"
      },
      "source": [
        "Calcula la complejidad del algoritmo por fuerza bruta"
      ]
    },
    {
      "cell_type": "markdown",
      "metadata": {
        "id": "9eUd3xwckP68"
      },
      "source": [
        "**Respuesta**\n",
        "\n",
        "Cómo podemos observar en el código tenemos un for dentro de otro for. El primer for crea combinaciones de 5 números y el segundo crea 4 combinaciones de los cuatro operaciones que tenemos. Tendríamos 126 posibilidades de números y 24 posibilidades de operaciones. Esto nos daría como resultado 3024 expresiones matemáticas. Lo cual es un proceso de O(n^4). Esto significa que el tiempo de ejecución del algoritmo crece rápidamente con el tamaño de la entrada. En esta cantidad de entradas no hay problema pero sí tuviéramos más valores de entrada, nos podríamos encontrar ante un problema ya que nuestro programa podría demorar mucho tiempo en hacer todas combinaciones posibles."
      ]
    },
    {
      "cell_type": "code",
      "metadata": {
        "id": "rvZWwL-ckRST"
      },
      "source": [],
      "execution_count": null,
      "outputs": []
    },
    {
      "cell_type": "markdown",
      "metadata": {
        "id": "txbrmLmskReM"
      },
      "source": [
        "(*)Diseña un algoritmo que mejore la complejidad del algortimo por fuerza bruta. Argumenta porque crees que mejora el algoritmo por fuerza bruta"
      ]
    },
    {
      "cell_type": "markdown",
      "metadata": {
        "id": "hLrVwt5QkZPD"
      },
      "source": [
        "**Respuesta**\n",
        "\n",
        "Para la solución de este problema he elegido usar una búsqueda aleatoria (Monte Carlo) y con esto consigo una solución exacta o aproximada dependiendo de cuántas iteraciones hagas.\n",
        "\n",
        "Puede ser más eficiente que la fuerza bruta en términos de tiempo de ejecución. En lugar de buscar exhaustivamente todas las combinaciones y permutaciones posibles, el algoritmo Monte Carlo se basa en la generación de muestras aleatorias y la selección de la mejor solución en función de una medida de desempeño. Esto puede ser más eficiente en términos de tiempo, especialmente cuando el espacio de búsqueda es muy grande."
      ]
    },
    {
      "cell_type": "code",
      "metadata": {
        "id": "m1eyM21Vkabg"
      },
      "source": [
        "import random"
      ],
      "execution_count": null,
      "outputs": []
    },
    {
      "cell_type": "code",
      "source": [
        "# Creo una funcion para crear expresiones aleatorias\n",
        "def expresion_aleatoria(numeros, operaciones):\n",
        "    numeros_restantes = numeros[:]\n",
        "    # Creo números aleatorios\n",
        "    expresion = str(random.choice(numeros_restantes))\n",
        "    numeros_restantes.remove(int(expresion))\n",
        "    # Creo operaciones aleatorios\n",
        "    operaciones_restantes = operaciones[:]\n",
        "    ultima_operacion = None\n",
        "    # Como random.choice crea números y expresiones aleatorias, se puede dar el casos de que se repitan\n",
        "    # Para evitar repetir números y operaciones hago este for\n",
        "    for i in range(4):\n",
        "        numeros = random.choice(numeros_restantes)\n",
        "        numeros_restantes.remove(numeros)\n",
        "        if ultima_operacion is not None:\n",
        "            operaciones_restantes.remove(ultima_operacion)\n",
        "        operaciones = random.choice(operaciones_restantes)\n",
        "        expresion += f\" {operaciones} {numeros}\"\n",
        "        ultima_operacion = operaciones\n",
        "    return expresion\n",
        "\n",
        "# Creo una funcion para hacer las comparaciones\n",
        "def optimizacion_aleatoria(num_deseado, numeros, operaciones, iteraciones_maximas=1000000):\n",
        "    mejor_expresion = None\n",
        "    mejor_resultado = float(\"inf\")\n",
        "    for i in range(iteraciones_maximas):\n",
        "        expresion = expresion_aleatoria(numeros, operaciones)\n",
        "        resultado = eval(expresion)\n",
        "        # Si la expresión no es igual al número me quedo con la mejor expresión encontrado hasta el momento\n",
        "        if abs(resultado - num_deseado) < abs(mejor_resultado - num_deseado):\n",
        "            mejor_expresion = expresion\n",
        "            mejor_resultado = resultado\n",
        "        # Si el resultado de la ecuación es igual al número devuelvo la ecuacion directamente\n",
        "        if resultado == num_deseado:\n",
        "            return expresion\n",
        "    return mejor_expresion\n",
        "\n",
        "numeros = [1, 2, 3, 4, 5, 6, 7, 8, 9]\n",
        "operaciones = [\"+\", \"-\", \"*\", \"/\"]\n",
        "num_deseado = 0\n",
        "# Aquí tengo la expresión que es valida devuelta por la función\n",
        "expresion = optimizacion_aleatoria(num_deseado, numeros, operaciones)\n",
        "# Enseño la respuesta si es igual al número deseado\n",
        "if eval(expresion) == num_deseado:\n",
        "    print(f\"Resultado exacto: {expresion}\")\n",
        "    print(f\"Result: {eval(expresion)}\")\n",
        "# En el caso de que no sea igual al número, imprimo la mejor solución que haya encontrado que es la que mas se acerca\n",
        "else:\n",
        "    print(f\"Resultado que más se acerca: {expresion}\")\n",
        "    print(f\"Result: {eval(expresion)}\")\n"
      ],
      "metadata": {
        "id": "aqOEuD0afRfr",
        "colab": {
          "base_uri": "https://localhost:8080/"
        },
        "outputId": "ffed8492-4e6d-47f0-980a-d844e0c1ab40"
      },
      "execution_count": null,
      "outputs": [
        {
          "output_type": "stream",
          "name": "stdout",
          "text": [
            "Resultado exacto: 7 + 1 * 4 / 2 - 9\n",
            "Result: 0.0\n"
          ]
        }
      ]
    },
    {
      "cell_type": "markdown",
      "metadata": {
        "id": "eGDB4K6uk1iN"
      },
      "source": [
        "(*)Calcula la complejidad del algoritmo "
      ]
    },
    {
      "cell_type": "markdown",
      "metadata": {
        "id": "NhpTh_BPk1ms"
      },
      "source": [
        "**Respuesta**\n",
        "\n",
        "La complejidad del algoritmo Monte Carlo es de O(N^5 * M^4), donde N es la cantidad de números que se están utilizando y M es la cantidad de operaciones que se están utilizando.\n",
        "\n",
        "Esto se debe a que en el peor de los casos, el algoritmo puede tener que explorar todas las combinaciones posibles de 5 números y todas las permutaciones posibles de 4 operaciones, lo que requiere N^5 y M^4 operaciones respectivamente."
      ]
    },
    {
      "cell_type": "code",
      "metadata": {
        "id": "nREzhkStlCq8"
      },
      "source": [],
      "execution_count": null,
      "outputs": []
    },
    {
      "cell_type": "markdown",
      "source": [
        "(*)¿Qué valor máximo y mínimo se pueden obtener según las condiciones del problema?"
      ],
      "metadata": {
        "id": "lcM3DSjLpiYd"
      }
    },
    {
      "cell_type": "markdown",
      "source": [
        "**Respuesta**\n",
        "\n",
        "Probando en el código que hemos creado el valor máximo que se puede obtener es 77 y el valor mínimo es -69."
      ],
      "metadata": {
        "id": "FFeCeXHbpyao"
      }
    },
    {
      "cell_type": "code",
      "source": [],
      "metadata": {
        "id": "D3AIzdRVqNYC"
      },
      "execution_count": null,
      "outputs": []
    },
    {
      "cell_type": "markdown",
      "source": [
        "(*)¿Es posible encontrar todos los valores enteros posibles entre dicho mínimo y máximo?\n"
      ],
      "metadata": {
        "id": "iO5QfeJwp1hq"
      }
    },
    {
      "cell_type": "markdown",
      "source": [
        "**Respuesta**\n",
        "\n",
        "Si es posible"
      ],
      "metadata": {
        "id": "spunRmseqDit"
      }
    },
    {
      "cell_type": "code",
      "source": [],
      "metadata": {
        "id": "0JLKLpP_qK30"
      },
      "execution_count": null,
      "outputs": []
    },
    {
      "cell_type": "markdown",
      "metadata": {
        "id": "3M6QjTsSkmYe"
      },
      "source": [
        "Según el problema (y tenga sentido), diseña un juego de datos de entrada aleatorios"
      ]
    },
    {
      "cell_type": "markdown",
      "metadata": {
        "id": "Jc3_OlyNkvjZ"
      },
      "source": [
        "Respuesta"
      ]
    },
    {
      "cell_type": "code",
      "metadata": {
        "id": "sJ-N2etjkyWc"
      },
      "source": [],
      "execution_count": null,
      "outputs": []
    },
    {
      "cell_type": "markdown",
      "metadata": {
        "id": "zy5ZROmjlGo1"
      },
      "source": [
        "Aplica el algoritmo al juego de datos generado"
      ]
    },
    {
      "cell_type": "markdown",
      "metadata": {
        "id": "_Cmj-PVylMsa"
      },
      "source": [
        "Respuesta"
      ]
    },
    {
      "cell_type": "code",
      "metadata": {
        "id": "Jkx8GeiYlUz1"
      },
      "source": [],
      "execution_count": null,
      "outputs": []
    },
    {
      "cell_type": "markdown",
      "metadata": {
        "id": "eTFWUJQrtGcv"
      },
      "source": [
        "Enumera las referencias que has utilizado(si ha sido necesario) para llevar a cabo el trabajo"
      ]
    },
    {
      "cell_type": "markdown",
      "metadata": {
        "id": "YKQ_mRBttWsP"
      },
      "source": [
        "Respuesta"
      ]
    },
    {
      "cell_type": "markdown",
      "metadata": {
        "id": "kAkDPUyRtYyH"
      },
      "source": [
        "Describe brevemente las lineas de como crees que es posible avanzar en el estudio del problema. Ten en cuenta incluso posibles variaciones del problema y/o variaciones al alza del tamaño"
      ]
    },
    {
      "cell_type": "markdown",
      "metadata": {
        "id": "IE0uZmo-tZu-"
      },
      "source": [
        "Respuesta"
      ]
    }
  ]
}