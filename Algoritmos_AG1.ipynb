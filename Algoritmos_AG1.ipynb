{
  "nbformat": 4,
  "nbformat_minor": 0,
  "metadata": {
    "colab": {
      "provenance": [],
      "toc_visible": true,
      "authorship_tag": "ABX9TyPAdcNO/QX2dG2rSI6FL+yk",
      "include_colab_link": true
    },
    "kernelspec": {
      "name": "python3",
      "display_name": "Python 3"
    },
    "language_info": {
      "name": "python"
    }
  },
  "cells": [
    {
      "cell_type": "markdown",
      "metadata": {
        "id": "view-in-github",
        "colab_type": "text"
      },
      "source": [
        "<a href=\"https://colab.research.google.com/github/Joosuuu/Algoritmos-de-optimizacion/blob/master/Algoritmos_AG1.ipynb\" target=\"_parent\"><img src=\"https://colab.research.google.com/assets/colab-badge.svg\" alt=\"Open In Colab\"/></a>"
      ]
    },
    {
      "cell_type": "markdown",
      "source": [
        "Actividad Guiada 1 de Algoritmos de Optimización\n",
        "\n",
        "Nombre: Josu Aginaga Olaizola <br>\n",
        "\n",
        "https://colab.research.google.com/drive/1iCYTn-X1hMFRf5JOzYEqXFyujRAAU1NM?usp=sharing\n",
        "\n",
        "https://github.com/Joosuuu/Algoritmos-de-optimizacion"
      ],
      "metadata": {
        "id": "3yL_6RoZ_3D3"
      }
    },
    {
      "cell_type": "markdown",
      "source": [
        "# Torres de Hanoi"
      ],
      "metadata": {
        "id": "kDFGjBGYBwGX"
      }
    },
    {
      "cell_type": "code",
      "source": [
        "# Torres de hanoi\n",
        "def Torres_Hanoi(N,desde,hasta):\n",
        "  #N = nº de fichas\n",
        "  #desde = nº de poste desde\n",
        "  #hasta = nº de poste hasta\n",
        "\n",
        "  if N == 1:\n",
        "    print('LLeva la ficha desde '+ str(desde) +' hasta ' + str(hasta))\n",
        "  else:\n",
        "    Torres_Hanoi(N-1,desde,6-desde-hasta)\n",
        "    print('LLeva la ficha desde '+ str(desde) +' hasta ' + str(hasta))\n",
        "    Torres_Hanoi(N-1,6-desde-hasta,hasta)\n",
        "    print('LLeva la ficha desde '+ str(desde) +' hasta ' + str(hasta))\n",
        "\n",
        "\n",
        "\n",
        "  #1. 3 -> 2\n",
        "  #1. 2 -> 3\n",
        "  #2. 3 -> 1\n"
      ],
      "metadata": {
        "id": "RviTvlDYASIn"
      },
      "execution_count": null,
      "outputs": []
    },
    {
      "cell_type": "code",
      "source": [
        "Torres_Hanoi(3,1,3)"
      ],
      "metadata": {
        "colab": {
          "base_uri": "https://localhost:8080/"
        },
        "id": "hyx-IxrIBPbF",
        "outputId": "64ecca54-17c4-447f-f7dd-ad29d9697dca"
      },
      "execution_count": null,
      "outputs": [
        {
          "output_type": "stream",
          "name": "stdout",
          "text": [
            "LLeva la ficha desde 1 hasta 3\n",
            "LLeva la ficha desde 1 hasta 2\n",
            "LLeva la ficha desde 3 hasta 2\n",
            "LLeva la ficha desde 1 hasta 2\n",
            "LLeva la ficha desde 1 hasta 3\n",
            "LLeva la ficha desde 2 hasta 1\n",
            "LLeva la ficha desde 2 hasta 3\n",
            "LLeva la ficha desde 1 hasta 3\n",
            "LLeva la ficha desde 2 hasta 3\n",
            "LLeva la ficha desde 1 hasta 3\n"
          ]
        }
      ]
    },
    {
      "cell_type": "markdown",
      "source": [
        "# Cambio de monedas"
      ],
      "metadata": {
        "id": "Odf_RxFEB1T8"
      }
    },
    {
      "cell_type": "code",
      "source": [
        "def cambio_monedas(cantidad,sistema):\n",
        "  # cantidad a cambiar\n",
        "  # sistema: valor de las monedas diferente, ordenado de mayor a menor\n",
        "  solucion = {}\n",
        "  for v in sistema:\n",
        "    monedas = cantidad // v\n",
        "    solucion[v] = monedas\n",
        "    cantidad -= monedas * v\n",
        "    if cantidad == 0:\n",
        "      return solucion"
      ],
      "metadata": {
        "id": "1RYOo-W8Bkss"
      },
      "execution_count": null,
      "outputs": []
    },
    {
      "cell_type": "code",
      "source": [
        "cambio_monedas(80,[25,10,5,1])"
      ],
      "metadata": {
        "colab": {
          "base_uri": "https://localhost:8080/"
        },
        "id": "9DxwzoHJDTsf",
        "outputId": "afaccd75-f782-4b47-b1c2-86b831a3afc9"
      },
      "execution_count": null,
      "outputs": [
        {
          "output_type": "execute_result",
          "data": {
            "text/plain": [
              "{25: 3, 10: 0, 5: 1}"
            ]
          },
          "metadata": {},
          "execution_count": 5
        }
      ]
    },
    {
      "cell_type": "markdown",
      "source": [
        "# N Reinas - Vuelta atrás"
      ],
      "metadata": {
        "id": "TOnKG1cbD8sz"
      }
    },
    {
      "cell_type": "code",
      "source": [
        "#Verifica que en la solución parcial no hay amenzas entre reinas\n",
        "def es_prometedora(SOLUCION,etapa):\n",
        "  # print(SOLUCION)\n",
        "  # Si la solución tiene dos valores iguales no es valida => Dos reinas en la misma fila\n",
        "  for i in range(etapa+1):\n",
        "    # print('El valor' + str(SOLUCION[i]) + 'está' str(SOLUCION.count(SOLUCION[i])) + 'veces')\n",
        "    if SOLUCION.count(SOLUCION[i]) >1: \n",
        "      return False\n",
        "\n",
        "    #Verifica las diagonales\n",
        "    for j in range(i+1,etapa+1):\n",
        "      # print('Comprobando diagonal de' + str(i) + 'y' + str(j))\n",
        "      if abs(i-j) == abs(SOLUCION[i]-SOLUCION[j]): return False\n",
        "  return True"
      ],
      "metadata": {
        "id": "yG2BhMpfFHw7"
      },
      "execution_count": null,
      "outputs": []
    },
    {
      "cell_type": "code",
      "source": [
        "#Traduce la solución al tablero\n",
        "def escribe_solucion(S):\n",
        "  n = len(S)\n",
        "  for x in range(n):\n",
        "    print('')\n",
        "    for i in range(n):\n",
        "      if S[i] == x+1:\n",
        "        print(' X ', end = '')\n",
        "      else:\n",
        "        print(' - ', end = '')"
      ],
      "metadata": {
        "id": "X6hciWxOGbiT"
      },
      "execution_count": null,
      "outputs": []
    },
    {
      "cell_type": "code",
      "source": [
        "# Proceso principal de N-Reinas\n",
        "def reinas(N,solucion=[],etapa=0):\n",
        "  # N           - Tamaño del tablero\n",
        "  # solución    - Solucion parcial\n",
        "  # etapa       - nº de reinas colocadas en la solución parcial\n",
        "\n",
        "  # Inicializa la solucion: una lista con ceros\n",
        "  if len(solucion) == 0:\n",
        "    solucion = [0 for i in range(N)]\n",
        "  # Recorremos todas las reinas\n",
        "  for i in range(1,N+1):\n",
        "    solucion[etapa] = i\n",
        "    #print(solucion)\n",
        "    if es_prometedora(solucion,etapa):\n",
        "      if etapa == N-1:\n",
        "        print('\\n\\nLa solución es:')\n",
        "        print(solucion)\n",
        "        escribe_solucion(solucion)\n",
        "      else:\n",
        "        #print('Es prometedora)\n",
        "        reinas(N,solucion,etapa+1)\n",
        "    else:\n",
        "      None\n",
        "    \n",
        "    solucion[etapa] = 0"
      ],
      "metadata": {
        "id": "YyDl0Gh-EBKH"
      },
      "execution_count": null,
      "outputs": []
    },
    {
      "cell_type": "code",
      "source": [
        "reinas(4,solucion = [],etapa = 0)"
      ],
      "metadata": {
        "colab": {
          "base_uri": "https://localhost:8080/"
        },
        "id": "UImtk_6ZGK65",
        "outputId": "b4beda36-39bb-4be2-b1cb-e1f9fb174bbc"
      },
      "execution_count": null,
      "outputs": [
        {
          "output_type": "stream",
          "name": "stdout",
          "text": [
            "\n",
            "\n",
            "La solución es:\n",
            "[2, 4, 1, 3]\n",
            "\n",
            " -  -  X  - \n",
            " X  -  -  - \n",
            " -  -  -  X \n",
            " -  X  -  - \n",
            "\n",
            "La solución es:\n",
            "[3, 1, 4, 2]\n",
            "\n",
            " -  X  -  - \n",
            " -  -  -  X \n",
            " X  -  -  - \n",
            " -  -  X  - "
          ]
        }
      ]
    },
    {
      "cell_type": "markdown",
      "source": [
        "# Problema: Encontrar los dos puntos mas cercanos"
      ],
      "metadata": {
        "id": "X4b57ZeHJthZ"
      }
    },
    {
      "cell_type": "markdown",
      "source": [
        "## En 1D"
      ],
      "metadata": {
        "id": "nBxcpGtZbmEl"
      }
    },
    {
      "cell_type": "markdown",
      "source": [
        "### Primer intento: Fuerza bruta"
      ],
      "metadata": {
        "id": "IaSv7UXUTrOa"
      }
    },
    {
      "cell_type": "code",
      "source": [
        "import random"
      ],
      "metadata": {
        "id": "SHpPzkWQKI9B"
      },
      "execution_count": null,
      "outputs": []
    },
    {
      "cell_type": "code",
      "source": [
        "# Creo la lista de 1 dimensión y de 2 dimensiones. En cada lista he creado 10 números aleatorios\n",
        "LISTA_1D = [random.randrange(1,10000) for x in range (10)]\n",
        "LISTA_2D = [(random.randrange(1,10000), random.randrange(1,10000)) for x in range(10)]"
      ],
      "metadata": {
        "id": "BiklCdZXKLCY"
      },
      "execution_count": null,
      "outputs": []
    },
    {
      "cell_type": "code",
      "source": [
        "import sys\n",
        "# Creo una funcion para encontrar los dos puntos más cercanos\n",
        "def puntos_cercanos(lista):\n",
        "    distancia_min = sys.maxsize\n",
        "    pareja_cercana = None\n",
        "    # Recorro la lista y voy comparando dos números de la lista\n",
        "    for i in range(len(lista)):\n",
        "        for j in range(i+1, len(lista)):\n",
        "            dist = abs(lista[i] - lista[j])\n",
        "            #Si la distancia encontrada es menor que la anterior me guardo los dos números nuevos\n",
        "            if dist < distancia_min:\n",
        "                distancia_min = dist\n",
        "                pareja_cercana = (lista[i], lista[j])\n",
        "  # Devuelvo la pareja de números más cercanos\n",
        "    return pareja_cercana"
      ],
      "metadata": {
        "id": "1zneJBTuJ0Lp"
      },
      "execution_count": null,
      "outputs": []
    },
    {
      "cell_type": "code",
      "source": [
        "# Enseño los 10 números aleatorios para ver cuales son y para ver si el código funciona adecuadamente\n",
        "print(LISTA_1D)"
      ],
      "metadata": {
        "colab": {
          "base_uri": "https://localhost:8080/"
        },
        "id": "SRQtkzlZLqbR",
        "outputId": "6c598c3a-5e42-40f4-a730-a17846f062c5"
      },
      "execution_count": null,
      "outputs": [
        {
          "output_type": "stream",
          "name": "stdout",
          "text": [
            "[7247, 6692, 3205, 3863, 1315, 5977, 6755, 3218, 8337, 435]\n"
          ]
        }
      ]
    },
    {
      "cell_type": "code",
      "source": [
        "# Le paso la lista de números a mi función y enseño lo que me devuelve\n",
        "print(puntos_cercanos(LISTA_1D))"
      ],
      "metadata": {
        "colab": {
          "base_uri": "https://localhost:8080/"
        },
        "id": "Xa7u0LQVJ8kB",
        "outputId": "782d30ee-5265-4699-862e-dc1d5e3773db"
      },
      "execution_count": null,
      "outputs": [
        {
          "output_type": "stream",
          "name": "stdout",
          "text": [
            "(3205, 3218)\n"
          ]
        }
      ]
    },
    {
      "cell_type": "markdown",
      "source": [
        "Se puede ver que el código funciona. Si hacemos el análisis de la complejidad de este algoritmo de fuerza bruta diremos que es de $O(n^2)$ ya que estamos usando un bucle dentro de otro bucle para encontrar la solución a este problema."
      ],
      "metadata": {
        "id": "SRzE2KOpTDF8"
      }
    },
    {
      "cell_type": "markdown",
      "source": [
        "### Segundo intento: Divide y vencerás"
      ],
      "metadata": {
        "id": "GG5PurVxTwE7"
      }
    },
    {
      "cell_type": "code",
      "source": [
        "import sys\n",
        "import math"
      ],
      "metadata": {
        "id": "JUD6U-k6T8-L"
      },
      "execution_count": null,
      "outputs": []
    },
    {
      "cell_type": "code",
      "source": [
        "# Creo una función para hacer divide y venceras. Con esta función lo que hago es dividir en dos mitades mi lista de números.\n",
        "def puntos_cercanos(x):\n",
        "    n = len(x)\n",
        "    # En el caso de que la lista sea de 3 números o menor, resuelvo directamente sin tener que dividir la lista\n",
        "    if n <= 3:\n",
        "        return fuerza_bruta(x)\n",
        "    # Divido la lista en mitad donde tendré la parte izquierda y la parte derecha\n",
        "    mid = n // 2\n",
        "    izquierda = x[:mid]\n",
        "    derecha = x[mid:]\n",
        "\n",
        "    p1, q1 = puntos_cercanos(izquierda)\n",
        "    p2, q2 = puntos_cercanos(derecha)\n",
        "    # Comparo la distancia entre los puntos más cercanos en ambas mitades y guardo el resultado con la distancia mínima.\n",
        "    if abs(p1 - q1) < abs(p2 - q2):\n",
        "        d = abs(p1 - q1)\n",
        "        mn = (p1, q1)\n",
        "    else:\n",
        "        d = abs(p2 - q2)\n",
        "        mn = (p2, q2)\n",
        "\n",
        "    y = [p for p in x if abs(p - x[mid]) < d]\n",
        "    n_y = len(y)\n",
        "    # Comparo los puntos en la nueva lista y y se actualiza la distancia mínima si se encuentra una distancia más corta.\n",
        "    for i in range(n_y - 1):\n",
        "        for j in range(i+1, n_y):\n",
        "            if abs(y[i] - y[j]) < d:\n",
        "                d = abs(y[i] - y[j])\n",
        "                mn = (y[i], y[j])\n",
        "    # Devuelvo la tupla con los dos puntos más cercanos y su distancia mínima.\n",
        "    return mn\n"
      ],
      "metadata": {
        "id": "QkEpJrjjQKS0"
      },
      "execution_count": null,
      "outputs": []
    },
    {
      "cell_type": "code",
      "source": [
        "# Esta función se utiliza para resolver el problema cuando la longitud de la lista es de 3 o menos elementos.\n",
        "def fuerza_bruta(x):\n",
        "    n = len(x)\n",
        "    mn = (x[0], x[1])\n",
        "    for i in range(n-1):\n",
        "        for j in range(i+1, n):\n",
        "            if abs(x[i] - x[j]) < abs(mn[0] - mn[1]):\n",
        "                mn = (x[i], x[j])\n",
        "    return mn"
      ],
      "metadata": {
        "id": "S-huFuLOWLAE"
      },
      "execution_count": null,
      "outputs": []
    },
    {
      "cell_type": "code",
      "source": [
        "print(\"Los puntos más cercanos son:\", puntos_cercanos(LISTA_1D))"
      ],
      "metadata": {
        "colab": {
          "base_uri": "https://localhost:8080/"
        },
        "id": "YAG09pcpQn0I",
        "outputId": "7c3e18be-2bc9-41af-8636-256f5d78ad5d"
      },
      "execution_count": null,
      "outputs": [
        {
          "output_type": "stream",
          "name": "stdout",
          "text": [
            "Los puntos más cercanos son: (3484, 3502)\n"
          ]
        }
      ]
    },
    {
      "cell_type": "markdown",
      "source": [
        "En este caso utilizando el algoritmo de divide y vencerás, obtenemos una solución mejor de complejidad. En este caso estariamos hablando de una complejidad de $O(n \\log n)$ y sabiendo esto podemos decir que esta solución es más eficiente que una solución por fuerza bruta."
      ],
      "metadata": {
        "id": "LoZW682PVf10"
      }
    }
  ]
}